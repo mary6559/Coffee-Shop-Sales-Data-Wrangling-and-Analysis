{
 "cells": [
  {
   "cell_type": "markdown",
   "id": "dbcd2b6d-f383-48cf-8244-083ee4862892",
   "metadata": {},
   "source": [
    "- Which product was purchased most frequently in the café?\n",
    "\n",
    "- In which month were the highest earnings, and how much was it?\n",
    "\n",
    "- How many coffees were sold in the shop, and how many as takeaway?\n",
    "\n",
    "- What percentage of people paid in cash?"
   ]
  },
  {
   "cell_type": "code",
   "execution_count": 1,
   "id": "b8f76beb-1a0f-4364-bf9c-40c92dd52a47",
   "metadata": {},
   "outputs": [],
   "source": [
    "import pandas as pd\n",
    "data = r\"C:\\Users\\maria\\Desktop\\bazy danych\\dirty_cafe_sales.csv\"\n",
    "\n",
    "df = pd.read_csv(data)"
   ]
  },
  {
   "cell_type": "code",
   "execution_count": 2,
   "id": "579a0b05-a3da-4f01-a961-95e38150ced9",
   "metadata": {},
   "outputs": [
    {
     "data": {
      "text/html": [
       "<div>\n",
       "<style scoped>\n",
       "    .dataframe tbody tr th:only-of-type {\n",
       "        vertical-align: middle;\n",
       "    }\n",
       "\n",
       "    .dataframe tbody tr th {\n",
       "        vertical-align: top;\n",
       "    }\n",
       "\n",
       "    .dataframe thead th {\n",
       "        text-align: right;\n",
       "    }\n",
       "</style>\n",
       "<table border=\"1\" class=\"dataframe\">\n",
       "  <thead>\n",
       "    <tr style=\"text-align: right;\">\n",
       "      <th></th>\n",
       "      <th>Transaction ID</th>\n",
       "      <th>Item</th>\n",
       "      <th>Quantity</th>\n",
       "      <th>Price Per Unit</th>\n",
       "      <th>Total Spent</th>\n",
       "      <th>Payment Method</th>\n",
       "      <th>Location</th>\n",
       "      <th>Transaction Date</th>\n",
       "    </tr>\n",
       "  </thead>\n",
       "  <tbody>\n",
       "    <tr>\n",
       "      <th>0</th>\n",
       "      <td>TXN_1961373</td>\n",
       "      <td>Coffee</td>\n",
       "      <td>2</td>\n",
       "      <td>2.0</td>\n",
       "      <td>4.0</td>\n",
       "      <td>Credit Card</td>\n",
       "      <td>Takeaway</td>\n",
       "      <td>2023-09-08</td>\n",
       "    </tr>\n",
       "    <tr>\n",
       "      <th>1</th>\n",
       "      <td>TXN_4977031</td>\n",
       "      <td>Cake</td>\n",
       "      <td>4</td>\n",
       "      <td>3.0</td>\n",
       "      <td>12.0</td>\n",
       "      <td>Cash</td>\n",
       "      <td>In-store</td>\n",
       "      <td>2023-05-16</td>\n",
       "    </tr>\n",
       "    <tr>\n",
       "      <th>2</th>\n",
       "      <td>TXN_4271903</td>\n",
       "      <td>Cookie</td>\n",
       "      <td>4</td>\n",
       "      <td>1.0</td>\n",
       "      <td>ERROR</td>\n",
       "      <td>Credit Card</td>\n",
       "      <td>In-store</td>\n",
       "      <td>2023-07-19</td>\n",
       "    </tr>\n",
       "    <tr>\n",
       "      <th>3</th>\n",
       "      <td>TXN_7034554</td>\n",
       "      <td>Salad</td>\n",
       "      <td>2</td>\n",
       "      <td>5.0</td>\n",
       "      <td>10.0</td>\n",
       "      <td>UNKNOWN</td>\n",
       "      <td>UNKNOWN</td>\n",
       "      <td>2023-04-27</td>\n",
       "    </tr>\n",
       "    <tr>\n",
       "      <th>4</th>\n",
       "      <td>TXN_3160411</td>\n",
       "      <td>Coffee</td>\n",
       "      <td>2</td>\n",
       "      <td>2.0</td>\n",
       "      <td>4.0</td>\n",
       "      <td>Digital Wallet</td>\n",
       "      <td>In-store</td>\n",
       "      <td>2023-06-11</td>\n",
       "    </tr>\n",
       "    <tr>\n",
       "      <th>...</th>\n",
       "      <td>...</td>\n",
       "      <td>...</td>\n",
       "      <td>...</td>\n",
       "      <td>...</td>\n",
       "      <td>...</td>\n",
       "      <td>...</td>\n",
       "      <td>...</td>\n",
       "      <td>...</td>\n",
       "    </tr>\n",
       "    <tr>\n",
       "      <th>9995</th>\n",
       "      <td>TXN_7672686</td>\n",
       "      <td>Coffee</td>\n",
       "      <td>2</td>\n",
       "      <td>2.0</td>\n",
       "      <td>4.0</td>\n",
       "      <td>NaN</td>\n",
       "      <td>UNKNOWN</td>\n",
       "      <td>2023-08-30</td>\n",
       "    </tr>\n",
       "    <tr>\n",
       "      <th>9996</th>\n",
       "      <td>TXN_9659401</td>\n",
       "      <td>NaN</td>\n",
       "      <td>3</td>\n",
       "      <td>NaN</td>\n",
       "      <td>3.0</td>\n",
       "      <td>Digital Wallet</td>\n",
       "      <td>NaN</td>\n",
       "      <td>2023-06-02</td>\n",
       "    </tr>\n",
       "    <tr>\n",
       "      <th>9997</th>\n",
       "      <td>TXN_5255387</td>\n",
       "      <td>Coffee</td>\n",
       "      <td>4</td>\n",
       "      <td>2.0</td>\n",
       "      <td>8.0</td>\n",
       "      <td>Digital Wallet</td>\n",
       "      <td>NaN</td>\n",
       "      <td>2023-03-02</td>\n",
       "    </tr>\n",
       "    <tr>\n",
       "      <th>9998</th>\n",
       "      <td>TXN_7695629</td>\n",
       "      <td>Cookie</td>\n",
       "      <td>3</td>\n",
       "      <td>NaN</td>\n",
       "      <td>3.0</td>\n",
       "      <td>Digital Wallet</td>\n",
       "      <td>NaN</td>\n",
       "      <td>2023-12-02</td>\n",
       "    </tr>\n",
       "    <tr>\n",
       "      <th>9999</th>\n",
       "      <td>TXN_6170729</td>\n",
       "      <td>Sandwich</td>\n",
       "      <td>3</td>\n",
       "      <td>4.0</td>\n",
       "      <td>12.0</td>\n",
       "      <td>Cash</td>\n",
       "      <td>In-store</td>\n",
       "      <td>2023-11-07</td>\n",
       "    </tr>\n",
       "  </tbody>\n",
       "</table>\n",
       "<p>10000 rows × 8 columns</p>\n",
       "</div>"
      ],
      "text/plain": [
       "     Transaction ID      Item Quantity Price Per Unit Total Spent  \\\n",
       "0       TXN_1961373    Coffee        2            2.0         4.0   \n",
       "1       TXN_4977031      Cake        4            3.0        12.0   \n",
       "2       TXN_4271903    Cookie        4            1.0       ERROR   \n",
       "3       TXN_7034554     Salad        2            5.0        10.0   \n",
       "4       TXN_3160411    Coffee        2            2.0         4.0   \n",
       "...             ...       ...      ...            ...         ...   \n",
       "9995    TXN_7672686    Coffee        2            2.0         4.0   \n",
       "9996    TXN_9659401       NaN        3            NaN         3.0   \n",
       "9997    TXN_5255387    Coffee        4            2.0         8.0   \n",
       "9998    TXN_7695629    Cookie        3            NaN         3.0   \n",
       "9999    TXN_6170729  Sandwich        3            4.0        12.0   \n",
       "\n",
       "      Payment Method  Location Transaction Date  \n",
       "0        Credit Card  Takeaway       2023-09-08  \n",
       "1               Cash  In-store       2023-05-16  \n",
       "2        Credit Card  In-store       2023-07-19  \n",
       "3            UNKNOWN   UNKNOWN       2023-04-27  \n",
       "4     Digital Wallet  In-store       2023-06-11  \n",
       "...              ...       ...              ...  \n",
       "9995             NaN   UNKNOWN       2023-08-30  \n",
       "9996  Digital Wallet       NaN       2023-06-02  \n",
       "9997  Digital Wallet       NaN       2023-03-02  \n",
       "9998  Digital Wallet       NaN       2023-12-02  \n",
       "9999            Cash  In-store       2023-11-07  \n",
       "\n",
       "[10000 rows x 8 columns]"
      ]
     },
     "execution_count": 2,
     "metadata": {},
     "output_type": "execute_result"
    }
   ],
   "source": [
    "df"
   ]
  },
  {
   "cell_type": "code",
   "execution_count": 3,
   "id": "8fdcb942-bb86-4cc5-8852-83f8f6188028",
   "metadata": {},
   "outputs": [
    {
     "data": {
      "text/plain": [
       "np.int64(0)"
      ]
     },
     "execution_count": 3,
     "metadata": {},
     "output_type": "execute_result"
    }
   ],
   "source": [
    "df['Transaction ID'].duplicated().sum()"
   ]
  },
  {
   "cell_type": "code",
   "execution_count": 4,
   "id": "4987f66c-6b49-4e88-9838-91009a2172ca",
   "metadata": {},
   "outputs": [
    {
     "data": {
      "text/plain": [
       "np.False_"
      ]
     },
     "execution_count": 4,
     "metadata": {},
     "output_type": "execute_result"
    }
   ],
   "source": [
    "df['Transaction ID'].duplicated().any()"
   ]
  },
  {
   "cell_type": "code",
   "execution_count": 5,
   "id": "c3508496-15fe-44ba-8cb1-dcdfe3beb1ed",
   "metadata": {},
   "outputs": [
    {
     "data": {
      "text/plain": [
       "Transaction ID      object\n",
       "Item                object\n",
       "Quantity            object\n",
       "Price Per Unit      object\n",
       "Total Spent         object\n",
       "Payment Method      object\n",
       "Location            object\n",
       "Transaction Date    object\n",
       "dtype: object"
      ]
     },
     "execution_count": 5,
     "metadata": {},
     "output_type": "execute_result"
    }
   ],
   "source": [
    "df.dtypes"
   ]
  },
  {
   "cell_type": "code",
   "execution_count": 6,
   "id": "f817054d-00a4-49f2-8d28-6f19cd69651e",
   "metadata": {},
   "outputs": [
    {
     "data": {
      "text/plain": [
       "Transaction ID         0\n",
       "Item                 333\n",
       "Quantity             138\n",
       "Price Per Unit       179\n",
       "Total Spent          173\n",
       "Payment Method      2579\n",
       "Location            3265\n",
       "Transaction Date     159\n",
       "dtype: int64"
      ]
     },
     "execution_count": 6,
     "metadata": {},
     "output_type": "execute_result"
    }
   ],
   "source": [
    "missing_values = df.isna().sum()\n",
    "missing_values"
   ]
  },
  {
   "cell_type": "code",
   "execution_count": 7,
   "id": "30812426-ab29-46ac-b3e7-508ef68621f6",
   "metadata": {},
   "outputs": [
    {
     "data": {
      "text/plain": [
       "Transaction ID       0.00\n",
       "Item                 3.33\n",
       "Quantity             1.38\n",
       "Price Per Unit       1.79\n",
       "Total Spent          1.73\n",
       "Payment Method      25.79\n",
       "Location            32.65\n",
       "Transaction Date     1.59\n",
       "dtype: float64"
      ]
     },
     "execution_count": 7,
     "metadata": {},
     "output_type": "execute_result"
    }
   ],
   "source": [
    "percentage_missing_values = missing_values / len(df) *100\n",
    "percentage_missing_values"
   ]
  },
  {
   "cell_type": "markdown",
   "id": "7f22e8ef-634d-4b65-ae76-10d4f7a104ba",
   "metadata": {},
   "source": [
    "# Which product was purchased most frequently in the café?"
   ]
  },
  {
   "cell_type": "code",
   "execution_count": 8,
   "id": "beb22188-2a2c-403c-85ee-6c0a201cd39b",
   "metadata": {},
   "outputs": [
    {
     "data": {
      "text/plain": [
       "array(['Coffee', 'Cake', 'Cookie', 'Salad', 'Smoothie', 'UNKNOWN',\n",
       "       'Sandwich', nan, 'ERROR', 'Juice', 'Tea'], dtype=object)"
      ]
     },
     "execution_count": 8,
     "metadata": {},
     "output_type": "execute_result"
    }
   ],
   "source": [
    "unique_items = df['Item'].unique()\n",
    "unique_items"
   ]
  },
  {
   "cell_type": "code",
   "execution_count": 9,
   "id": "880ac357-108e-4b0f-b715-b0735dfc5449",
   "metadata": {},
   "outputs": [],
   "source": [
    "import numpy as np\n",
    "df['Item'] = df['Item'].replace(['UNKNOWN', 'ERROR'], np.nan)"
   ]
  },
  {
   "cell_type": "code",
   "execution_count": 10,
   "id": "ce4a4d5d-1ec8-44f5-9580-ff0bf3dba592",
   "metadata": {},
   "outputs": [],
   "source": [
    "df = df.dropna(subset = ['Item']).copy()"
   ]
  },
  {
   "cell_type": "code",
   "execution_count": 11,
   "id": "947a055b-0b0f-4a3e-9de0-c8a4c327c9af",
   "metadata": {},
   "outputs": [
    {
     "data": {
      "text/plain": [
       "0         Coffee\n",
       "1           Cake\n",
       "2         Cookie\n",
       "3          Salad\n",
       "4         Coffee\n",
       "          ...   \n",
       "9993    Smoothie\n",
       "9995      Coffee\n",
       "9997      Coffee\n",
       "9998      Cookie\n",
       "9999    Sandwich\n",
       "Name: Item, Length: 9031, dtype: object"
      ]
     },
     "execution_count": 11,
     "metadata": {},
     "output_type": "execute_result"
    }
   ],
   "source": [
    "df['Item']"
   ]
  },
  {
   "cell_type": "code",
   "execution_count": 12,
   "id": "28d44a3e-e332-4f35-8350-e184b5daaf0f",
   "metadata": {},
   "outputs": [
    {
     "data": {
      "text/plain": [
       "Item\n",
       "Juice       1171\n",
       "Coffee      1165\n",
       "Salad       1148\n",
       "Cake        1139\n",
       "Sandwich    1131\n",
       "Smoothie    1096\n",
       "Cookie      1092\n",
       "Tea         1089\n",
       "Name: count, dtype: int64"
      ]
     },
     "execution_count": 12,
     "metadata": {},
     "output_type": "execute_result"
    }
   ],
   "source": [
    "df['Item'].value_counts()"
   ]
  },
  {
   "cell_type": "code",
   "execution_count": 13,
   "id": "38f2acbb-08a9-4558-bae4-d6345c0d5263",
   "metadata": {},
   "outputs": [
    {
     "data": {
      "text/plain": [
       "array(['2', '4', '5', '3', '1', 'ERROR', 'UNKNOWN', nan], dtype=object)"
      ]
     },
     "execution_count": 13,
     "metadata": {},
     "output_type": "execute_result"
    }
   ],
   "source": [
    "unique_v = df['Quantity'].unique()\n",
    "unique_v"
   ]
  },
  {
   "cell_type": "code",
   "execution_count": 14,
   "id": "3d6ee04b-a5a4-448f-9823-1383d000b560",
   "metadata": {},
   "outputs": [],
   "source": [
    "df['Quantity'] = df['Quantity'].replace(['ERROR', 'UNKNOWN'], np.nan)"
   ]
  },
  {
   "cell_type": "code",
   "execution_count": 15,
   "id": "598f90dc-0e5a-4128-9c5c-b7e913aa2ff3",
   "metadata": {},
   "outputs": [],
   "source": [
    "df = df.dropna(subset = ['Quantity']).copy()"
   ]
  },
  {
   "cell_type": "code",
   "execution_count": 16,
   "id": "7e519c87-9a25-48c2-bef2-2068d369ce4e",
   "metadata": {},
   "outputs": [],
   "source": [
    "df['Quantity'] = df['Quantity'].astype(int)"
   ]
  },
  {
   "cell_type": "code",
   "execution_count": 17,
   "id": "7be9c449-69b8-4ef7-a2b0-72c5062a2765",
   "metadata": {},
   "outputs": [
    {
     "data": {
      "text/plain": [
       "0       2\n",
       "1       4\n",
       "2       4\n",
       "3       2\n",
       "4       2\n",
       "       ..\n",
       "9993    2\n",
       "9995    2\n",
       "9997    4\n",
       "9998    3\n",
       "9999    3\n",
       "Name: Quantity, Length: 8611, dtype: int64"
      ]
     },
     "execution_count": 17,
     "metadata": {},
     "output_type": "execute_result"
    }
   ],
   "source": [
    "df['Quantity']"
   ]
  },
  {
   "cell_type": "code",
   "execution_count": 18,
   "id": "db720867-2c23-4f23-a931-f2785d421189",
   "metadata": {},
   "outputs": [
    {
     "data": {
      "text/plain": [
       "Item\n",
       "Juice       3373\n",
       "Coffee      3368\n",
       "Cake        3329\n",
       "Salad       3310\n",
       "Sandwich    3245\n",
       "Smoothie    3221\n",
       "Tea         3154\n",
       "Cookie      3090\n",
       "Name: Quantity, dtype: int64"
      ]
     },
     "execution_count": 18,
     "metadata": {},
     "output_type": "execute_result"
    }
   ],
   "source": [
    "df.groupby('Item')['Quantity'].sum().sort_values(ascending = False)"
   ]
  },
  {
   "cell_type": "code",
   "execution_count": 19,
   "id": "0547ae1e-f539-4918-8a3c-ae01d710f0ee",
   "metadata": {},
   "outputs": [
    {
     "name": "stdout",
     "output_type": "stream",
     "text": [
      "Most frequently purchased product is: Juice with 3373 items sold.\n"
     ]
    }
   ],
   "source": [
    "top_product = df.groupby('Item')['Quantity'].sum().sort_values(ascending=False).head(1)\n",
    "\n",
    "print(f\"Most frequently purchased product is: {top_product.index[0]} with {top_product.values[0]} items sold.\")"
   ]
  },
  {
   "cell_type": "markdown",
   "id": "e2a96e3d-e7b0-4c7a-a322-729de0bbc776",
   "metadata": {},
   "source": [
    "# In which month were the highest earnings, and how much was it?"
   ]
  },
  {
   "cell_type": "code",
   "execution_count": 20,
   "id": "e2c0731f-1249-47ac-b98b-891e058f8770",
   "metadata": {},
   "outputs": [
    {
     "data": {
      "text/plain": [
       "array(['4.0', '12.0', 'ERROR', '10.0', '20.0', '16.0', '25.0', '8.0',\n",
       "       '5.0', '15.0', '6.0', nan, 'UNKNOWN', '2.0', '9.0', '1.0', '3.0',\n",
       "       '7.5', '4.5', '1.5'], dtype=object)"
      ]
     },
     "execution_count": 20,
     "metadata": {},
     "output_type": "execute_result"
    }
   ],
   "source": [
    "unique_cash = df['Total Spent'].unique()\n",
    "unique_cash"
   ]
  },
  {
   "cell_type": "code",
   "execution_count": 21,
   "id": "5eefcffc-24a2-4434-a842-c9c839e21494",
   "metadata": {},
   "outputs": [],
   "source": [
    "df['Total Spent'] = df['Total Spent'].replace(['ERROR', 'UNKNOWN'], np.nan)"
   ]
  },
  {
   "cell_type": "code",
   "execution_count": 22,
   "id": "cc9a3ccb-3c34-4983-a348-84f251e13314",
   "metadata": {},
   "outputs": [
    {
     "data": {
      "text/plain": [
       "array(['4.0', '12.0', nan, '10.0', '20.0', '16.0', '25.0', '8.0', '5.0',\n",
       "       '15.0', '6.0', '2.0', '9.0', '1.0', '3.0', '7.5', '4.5', '1.5'],\n",
       "      dtype=object)"
      ]
     },
     "execution_count": 22,
     "metadata": {},
     "output_type": "execute_result"
    }
   ],
   "source": [
    "unique_cash = df['Total Spent'].unique()\n",
    "unique_cash"
   ]
  },
  {
   "cell_type": "code",
   "execution_count": 23,
   "id": "a01689bf-e4d2-44f8-8ce3-f253388dfff0",
   "metadata": {},
   "outputs": [],
   "source": [
    "df['Total Spent'] = df['Total Spent'].astype(float)\n",
    "total = df['Total Spent'].sum()"
   ]
  },
  {
   "cell_type": "code",
   "execution_count": 24,
   "id": "71a2f222-b845-42a5-af2a-8a99238401e3",
   "metadata": {},
   "outputs": [
    {
     "data": {
      "text/plain": [
       "array(['2023-09-08', '2023-05-16', '2023-07-19', '2023-04-27',\n",
       "       '2023-06-11', '2023-03-31', '2023-10-28', '2023-12-31',\n",
       "       '2023-11-07', 'ERROR', '2023-05-03', '2023-06-01', '2023-11-15',\n",
       "       '2023-06-10', '2023-02-24', '2023-03-25', '2023-01-15',\n",
       "       '2023-03-30', '2023-12-01', '2023-09-18', '2023-06-03',\n",
       "       '2023-12-13', '2023-04-20', '2023-04-10', '2023-03-11',\n",
       "       '2023-08-15', '2023-10-09', '2023-05-28', '2023-04-29',\n",
       "       '2023-06-08', '2023-06-29', '2023-04-17', '2023-12-22',\n",
       "       '2023-01-10', '2023-10-02', '2023-02-23', '2023-03-22',\n",
       "       '2023-11-03', '2023-03-02', '2023-06-26', '2023-05-02',\n",
       "       '2023-09-05', '2023-01-08', '2023-11-25', '2023-12-05',\n",
       "       '2023-06-27', '2023-10-07', '2023-09-30', '2023-05-27',\n",
       "       '2023-10-20', '2023-10-03', '2023-10-27', '2023-01-31',\n",
       "       '2023-06-19', '2023-12-14', '2023-07-16', '2023-02-22', nan,\n",
       "       '2023-06-02', '2023-06-15', '2023-12-09', '2023-04-18',\n",
       "       '2023-10-29', '2023-04-30', '2023-04-02', '2023-08-16',\n",
       "       '2023-09-10', '2023-03-07', '2023-08-07', '2023-08-20',\n",
       "       '2023-04-15', '2023-07-25', '2023-12-15', '2023-02-25',\n",
       "       '2023-04-03', '2023-10-08', '2023-12-28', '2023-08-30',\n",
       "       '2023-02-03', '2023-09-12', '2023-05-04', '2023-02-21', 'UNKNOWN',\n",
       "       '2023-03-16', '2023-03-29', '2023-06-18', '2023-09-23',\n",
       "       '2023-01-14', '2023-09-14', '2023-09-16', '2023-02-06',\n",
       "       '2023-04-08', '2023-12-19', '2023-07-14', '2023-12-12',\n",
       "       '2023-01-05', '2023-01-23', '2023-02-20', '2023-12-06',\n",
       "       '2023-05-31', '2023-08-11', '2023-09-03', '2023-07-11',\n",
       "       '2023-06-06', '2023-01-18', '2023-03-23', '2023-06-23',\n",
       "       '2023-08-03', '2023-07-12', '2023-11-02', '2023-07-31',\n",
       "       '2023-09-19', '2023-02-09', '2023-05-21', '2023-07-02',\n",
       "       '2023-11-21', '2023-12-02', '2023-03-13', '2023-08-12',\n",
       "       '2023-02-16', '2023-03-26', '2023-11-01', '2023-07-22',\n",
       "       '2023-07-26', '2023-02-28', '2023-01-27', '2023-01-19',\n",
       "       '2023-04-07', '2023-03-20', '2023-12-27', '2023-10-26',\n",
       "       '2023-05-15', '2023-12-10', '2023-04-21', '2023-02-04',\n",
       "       '2023-11-12', '2023-08-05', '2023-05-10', '2023-07-15',\n",
       "       '2023-01-11', '2023-10-01', '2023-04-26', '2023-03-01',\n",
       "       '2023-11-13', '2023-07-09', '2023-05-13', '2023-05-18',\n",
       "       '2023-01-17', '2023-09-22', '2023-08-22', '2023-07-27',\n",
       "       '2023-12-21', '2023-09-28', '2023-11-16', '2023-04-14',\n",
       "       '2023-01-12', '2023-08-31', '2023-07-07', '2023-10-21',\n",
       "       '2023-09-02', '2023-08-19', '2023-01-06', '2023-07-10',\n",
       "       '2023-10-13', '2023-05-29', '2023-05-22', '2023-11-23',\n",
       "       '2023-11-14', '2023-12-17', '2023-10-22', '2023-06-30',\n",
       "       '2023-12-11', '2023-04-25', '2023-10-12', '2023-07-04',\n",
       "       '2023-01-28', '2023-10-04', '2023-02-26', '2023-11-06',\n",
       "       '2023-10-11', '2023-02-14', '2023-09-06', '2023-04-23',\n",
       "       '2023-01-22', '2023-03-10', '2023-01-09', '2023-12-03',\n",
       "       '2023-08-06', '2023-12-29', '2023-02-15', '2023-05-25',\n",
       "       '2023-10-31', '2023-02-27', '2023-04-06', '2023-03-03',\n",
       "       '2023-09-27', '2023-08-18', '2023-05-12', '2023-07-06',\n",
       "       '2023-08-09', '2023-05-14', '2023-03-21', '2023-11-26',\n",
       "       '2023-10-10', '2023-09-26', '2023-03-15', '2023-01-13',\n",
       "       '2023-10-16', '2023-11-17', '2023-12-20', '2023-12-04',\n",
       "       '2023-02-08', '2023-09-11', '2023-02-01', '2023-02-12',\n",
       "       '2023-03-14', '2023-09-29', '2023-04-22', '2023-08-25',\n",
       "       '2023-07-28', '2023-12-08', '2023-02-18', '2023-06-13',\n",
       "       '2023-12-24', '2023-03-28', '2023-02-11', '2023-01-30',\n",
       "       '2023-04-09', '2023-04-16', '2023-12-23', '2023-03-05',\n",
       "       '2023-03-24', '2023-07-23', '2023-07-29', '2023-01-03',\n",
       "       '2023-03-12', '2023-06-05', '2023-10-19', '2023-01-07',\n",
       "       '2023-07-20', '2023-05-07', '2023-08-10', '2023-10-24',\n",
       "       '2023-08-13', '2023-08-28', '2023-06-21', '2023-06-20',\n",
       "       '2023-11-10', '2023-10-18', '2023-05-19', '2023-07-17',\n",
       "       '2023-06-24', '2023-05-11', '2023-09-01', '2023-01-04',\n",
       "       '2023-12-16', '2023-09-25', '2023-03-06', '2023-05-09',\n",
       "       '2023-06-22', '2023-05-30', '2023-04-24', '2023-09-20',\n",
       "       '2023-02-07', '2023-05-05', '2023-02-10', '2023-10-25',\n",
       "       '2023-07-21', '2023-02-19', '2023-08-14', '2023-07-08',\n",
       "       '2023-09-04', '2023-10-14', '2023-06-28', '2023-09-09',\n",
       "       '2023-08-21', '2023-07-01', '2023-06-14', '2023-03-09',\n",
       "       '2023-11-08', '2023-09-13', '2023-05-23', '2023-11-29',\n",
       "       '2023-04-01', '2023-06-09', '2023-08-23', '2023-10-30',\n",
       "       '2023-08-08', '2023-08-27', '2023-05-26', '2023-06-16',\n",
       "       '2023-12-25', '2023-01-25', '2023-10-23', '2023-09-15',\n",
       "       '2023-05-06', '2023-05-24', '2023-01-29', '2023-08-29',\n",
       "       '2023-02-02', '2023-07-24', '2023-04-12', '2023-08-24',\n",
       "       '2023-09-21', '2023-10-15', '2023-05-01', '2023-02-05',\n",
       "       '2023-01-24', '2023-01-02', '2023-06-12', '2023-01-16',\n",
       "       '2023-04-04', '2023-10-17', '2023-03-04', '2023-06-17',\n",
       "       '2023-03-19', '2023-04-11', '2023-03-18', '2023-08-26',\n",
       "       '2023-07-05', '2023-05-17', '2023-11-22', '2023-08-17',\n",
       "       '2023-11-19', '2023-11-27', '2023-06-04', '2023-11-18',\n",
       "       '2023-09-17', '2023-11-28', '2023-04-19', '2023-11-09',\n",
       "       '2023-06-25', '2023-07-18', '2023-12-18', '2023-04-28',\n",
       "       '2023-04-13', '2023-01-26', '2023-08-04', '2023-05-08',\n",
       "       '2023-11-24', '2023-12-30', '2023-12-26', '2023-11-20',\n",
       "       '2023-12-07', '2023-09-24', '2023-01-21', '2023-07-13',\n",
       "       '2023-03-08', '2023-11-04', '2023-09-07', '2023-11-30',\n",
       "       '2023-08-02', '2023-04-05', '2023-08-01', '2023-01-20',\n",
       "       '2023-01-01', '2023-10-06', '2023-11-11', '2023-06-07',\n",
       "       '2023-02-13', '2023-07-30', '2023-02-17', '2023-05-20',\n",
       "       '2023-10-05', '2023-11-05', '2023-03-17', '2023-03-27',\n",
       "       '2023-07-03'], dtype=object)"
      ]
     },
     "execution_count": 24,
     "metadata": {},
     "output_type": "execute_result"
    }
   ],
   "source": [
    "unique_date = df['Transaction Date'].unique()\n",
    "unique_date"
   ]
  },
  {
   "cell_type": "code",
   "execution_count": 25,
   "id": "a52f9f3d-ecd4-4f6c-9d42-5b576158583f",
   "metadata": {},
   "outputs": [],
   "source": [
    "df['Transaction Date'] = df['Transaction Date'].replace(['UNKNOWN', 'ERROR'], np.nan)"
   ]
  },
  {
   "cell_type": "code",
   "execution_count": 26,
   "id": "61941200-f122-4643-903e-9443b41bbbfb",
   "metadata": {},
   "outputs": [],
   "source": [
    "df['Transaction Date'] = pd.to_datetime(df['Transaction Date'])"
   ]
  },
  {
   "cell_type": "code",
   "execution_count": 27,
   "id": "d1c94581-ff81-4f51-b198-da14eac419b1",
   "metadata": {},
   "outputs": [
    {
     "data": {
      "text/plain": [
       "0      2023-09-08\n",
       "1      2023-05-16\n",
       "2      2023-07-19\n",
       "3      2023-04-27\n",
       "4      2023-06-11\n",
       "          ...    \n",
       "9993   2023-10-20\n",
       "9995   2023-08-30\n",
       "9997   2023-03-02\n",
       "9998   2023-12-02\n",
       "9999   2023-11-07\n",
       "Name: Transaction Date, Length: 8611, dtype: datetime64[ns]"
      ]
     },
     "execution_count": 27,
     "metadata": {},
     "output_type": "execute_result"
    }
   ],
   "source": [
    "df['Transaction Date']"
   ]
  },
  {
   "cell_type": "code",
   "execution_count": 28,
   "id": "86d74520-e163-4b08-9803-2e3c293740fe",
   "metadata": {},
   "outputs": [
    {
     "data": {
      "text/plain": [
       "Timestamp('2023-01-01 00:00:00')"
      ]
     },
     "execution_count": 28,
     "metadata": {},
     "output_type": "execute_result"
    }
   ],
   "source": [
    "df['Transaction Date'].min()"
   ]
  },
  {
   "cell_type": "code",
   "execution_count": 29,
   "id": "c3d5f867-3778-44c0-b2c3-b1f9f67e687f",
   "metadata": {},
   "outputs": [
    {
     "data": {
      "text/plain": [
       "Timestamp('2023-12-31 00:00:00')"
      ]
     },
     "execution_count": 29,
     "metadata": {},
     "output_type": "execute_result"
    }
   ],
   "source": [
    "df['Transaction Date'].max()"
   ]
  },
  {
   "cell_type": "code",
   "execution_count": 30,
   "id": "4aaf2f7f-4abe-4f9c-b32b-a4be7027f8bd",
   "metadata": {},
   "outputs": [
    {
     "data": {
      "text/plain": [
       "Transaction Date\n",
       "1.0     708\n",
       "2.0     624\n",
       "3.0     712\n",
       "4.0     659\n",
       "5.0     661\n",
       "6.0     700\n",
       "7.0     687\n",
       "8.0     686\n",
       "9.0     674\n",
       "10.0    733\n",
       "11.0    697\n",
       "12.0    674\n",
       "dtype: int64"
      ]
     },
     "execution_count": 30,
     "metadata": {},
     "output_type": "execute_result"
    }
   ],
   "source": [
    "df.groupby(df['Transaction Date'].dt.month).size()"
   ]
  },
  {
   "cell_type": "code",
   "execution_count": 31,
   "id": "fcef79f7-cb74-4f5a-bce3-97a6388e83ba",
   "metadata": {},
   "outputs": [],
   "source": [
    "monthly = df.groupby(df['Transaction Date'].dt.month)['Total Spent'].sum()"
   ]
  },
  {
   "cell_type": "code",
   "execution_count": 32,
   "id": "fe033d5e-3aa8-4f51-ae51-91883075cee8",
   "metadata": {},
   "outputs": [],
   "source": [
    "number_to_month = {\n",
    "    1.0: \"January\",\n",
    "    2.0: \"February\",\n",
    "    3.0: \"March\",\n",
    "    4.0: \"April\",\n",
    "    5.0: \"May\",\n",
    "    6.0: \"June\",\n",
    "    7.0: \"July\",\n",
    "    8.0: \"August\",\n",
    "    9.0: \"September\",\n",
    "    10.0: \"October\",\n",
    "    11.0: \"November\",\n",
    "    12.0: \"December\"}"
   ]
  },
  {
   "cell_type": "code",
   "execution_count": 33,
   "id": "d15ee57b-8120-4d41-82aa-3405a6e9a0c8",
   "metadata": {},
   "outputs": [],
   "source": [
    "monthly.index = monthly.index.map(number_to_month)"
   ]
  },
  {
   "cell_type": "code",
   "execution_count": 34,
   "id": "c09a2979-0606-4dd0-bdc0-43f321c9aecd",
   "metadata": {},
   "outputs": [
    {
     "name": "stdout",
     "output_type": "stream",
     "text": [
      "Month: October, Total Spent: 6170.0\n"
     ]
    }
   ],
   "source": [
    "max_month = monthly.idxmax()\n",
    "max_value = monthly.max()\n",
    "print(f'Month: {max_month}, Total Spent: {max_value}')"
   ]
  },
  {
   "cell_type": "code",
   "execution_count": 37,
   "id": "34e856e9-a5bd-42fd-b92d-c6ab8558e2a4",
   "metadata": {},
   "outputs": [
    {
     "data": {
      "image/png": "[encoded data removed]",
      "text/plain": [
       "<Figure size 800x400 with 1 Axes>"
      ]
     },
     "metadata": {},
     "output_type": "display_data"
    }
   ],
   "source": [
    "import matplotlib.pyplot as plt\n",
    "\n",
    "df['Transaction Date'] = pd.to_datetime(df['Transaction Date'])\n",
    "monthly = df.set_index('Transaction Date').resample('ME')['Quantity'].sum()\n",
    "plt.figure(figsize=(8,4))\n",
    "monthly.plot()\n",
    "plt.title('Monthly quantity sold'); plt.ylabel('Units'); plt.xlabel('Month'); plt.tight_layout()"
   ]
  },
  {
   "cell_type": "markdown",
   "id": "c6d2b633-f5f5-45ed-8864-4b522f29e6e3",
   "metadata": {},
   "source": [
    "# How many coffees were sold in the shop, and how many as takeaway?"
   ]
  },
  {
   "cell_type": "code",
   "execution_count": null,
   "id": "6b2e9329-032f-4cdf-935b-c23971335420",
   "metadata": {},
   "outputs": [],
   "source": [
    "place = df['Location'].unique()\n",
    "place"
   ]
  },
  {
   "cell_type": "code",
   "execution_count": null,
   "id": "fbab701b-fe41-45e7-8a7f-996780fc8522",
   "metadata": {},
   "outputs": [],
   "source": [
    "df['Location'] = df['Location'].replace(['ERROR', 'UNKNOWN'], np. nan)"
   ]
  },
  {
   "cell_type": "code",
   "execution_count": null,
   "id": "d21aea23-8278-4921-9fee-355f1a7770db",
   "metadata": {},
   "outputs": [],
   "source": [
    "df['Location'].value_counts()"
   ]
  },
  {
   "cell_type": "code",
   "execution_count": null,
   "id": "0d85460f-3965-432d-9af9-cbe1a2d88dbd",
   "metadata": {},
   "outputs": [],
   "source": [
    "df.groupby(df['Location'])['Total Spent'].sum()"
   ]
  },
  {
   "cell_type": "code",
   "execution_count": null,
   "id": "6c1ff5cd-adff-4ab0-a55a-8f1a42a9764e",
   "metadata": {},
   "outputs": [],
   "source": [
    "df.groupby(df['Location'])['Item'].value_counts()"
   ]
  },
  {
   "cell_type": "code",
   "execution_count": null,
   "id": "ba4d17e7-fbfb-451b-86f3-2d02b2d14afc",
   "metadata": {},
   "outputs": [],
   "source": [
    "coffee_sales = df[df['Item'].str.contains(\"coffee\", case=False, na=False)] \\\n",
    "    .groupby(\"Location\")['Quantity'].sum()"
   ]
  },
  {
   "cell_type": "code",
   "execution_count": null,
   "id": "ab7ef33a-5a8c-4f97-9ab0-bd0617a49ce1",
   "metadata": {},
   "outputs": [],
   "source": [
    "in_store = coffee_sales['In-store']\n",
    "takeaway = coffee_sales['Takeaway']\n",
    "\n",
    "print(f\"The number of coffees sold in-store: {in_store}. The number of coffees sold takeaway: {takeaway}.\")"
   ]
  },
  {
   "cell_type": "markdown",
   "id": "f4552e4e-14c7-41a1-a461-12e8c876c864",
   "metadata": {},
   "source": [
    "# What percentage of people paid in cash?"
   ]
  },
  {
   "cell_type": "code",
   "execution_count": null,
   "id": "7cffa431-0570-4471-9888-4fae95493a55",
   "metadata": {},
   "outputs": [],
   "source": [
    "payment = df['Payment Method'].unique()\n",
    "payment"
   ]
  },
  {
   "cell_type": "code",
   "execution_count": null,
   "id": "289949d8-331f-49ca-a710-ffe84f9806f6",
   "metadata": {},
   "outputs": [],
   "source": [
    "df['Payment Method'] = df['Payment Method'].replace(['ERROR', 'UNKNOWN'], np.nan)"
   ]
  },
  {
   "cell_type": "code",
   "execution_count": null,
   "id": "b32aa91a-0e2c-482a-8802-917763bb2441",
   "metadata": {},
   "outputs": [],
   "source": [
    "df['Payment Method'].value_counts()"
   ]
  },
  {
   "cell_type": "code",
   "execution_count": null,
   "id": "6e57482b-20ec-4547-a44b-68c200452cec",
   "metadata": {},
   "outputs": [],
   "source": [
    "cash = (df['Payment Method'] == 'Cash').sum()\n",
    "cash"
   ]
  },
  {
   "cell_type": "code",
   "execution_count": null,
   "id": "89df8788-8b0f-42d5-9b34-a81a9f72c125",
   "metadata": {},
   "outputs": [],
   "source": [
    "every_method = df['Payment Method'].value_counts().sum()\n",
    "every_method"
   ]
  },
  {
   "cell_type": "code",
   "execution_count": null,
   "id": "6fe7bb95-4702-4a8e-a086-2eb6065cc146",
   "metadata": {},
   "outputs": [],
   "source": [
    "how_many_cash = (cash / every_method) * 100\n",
    "how_many_cash = how_many_cash.round(2)"
   ]
  },
  {
   "cell_type": "code",
   "execution_count": null,
   "id": "40f5c709-0970-4946-87c8-32356dcfaf74",
   "metadata": {},
   "outputs": [],
   "source": [
    "print(f'The percentage of people who paid in cash out of all known payment methods is: {how_many_cash}')"
   ]
  },
  {
   "cell_type": "code",
   "execution_count": 39,
   "id": "79867f32-8c90-482a-81a8-b77eb13b4c5b",
   "metadata": {},
   "outputs": [
    {
     "name": "stdout",
     "output_type": "stream",
     "text": [
      "Number of unknown payment methods: 2214\n",
      "Percentage of unknown payment methods: 25.71%\n"
     ]
    }
   ],
   "source": [
    "unknown_methods = df['Payment Method'].isna().sum()\n",
    "\n",
    "unknown_percent = (unknown_methods / len(df)) * 100\n",
    "\n",
    "print(f\"Number of unknown payment methods: {unknown_methods}\")\n",
    "print(f\"Percentage of unknown payment methods: {unknown_percent:.2f}%\")"
   ]
  }
 ],
 "metadata": {
  "kernelspec": {
   "display_name": "Python [conda env:base] *",
   "language": "python",
   "name": "conda-base-py"
  },
  "language_info": {
   "codemirror_mode": {
    "name": "ipython",
    "version": 3
   },
   "file_extension": ".py",
   "mimetype": "text/x-python",
   "name": "python",
   "nbconvert_exporter": "python",
   "pygments_lexer": "ipython3",
   "version": "3.13.5"
  }
 },
 "nbformat": 4,
 "nbformat_minor": 5
}
